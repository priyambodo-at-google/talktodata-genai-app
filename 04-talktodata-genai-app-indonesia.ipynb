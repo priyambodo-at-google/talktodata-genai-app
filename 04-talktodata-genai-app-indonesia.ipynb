{
 "cells": [
  {
   "cell_type": "markdown",
   "id": "359697d5",
   "metadata": {
    "id": "359697d5"
   },
   "source": [
    "# Text to SQL Generation for BigQuery using Vertex AI PALM API\n",
    "\n",
    "One of LLM capability to improve developer productivity is generating SQL query based on natual language prompting. This feature enabale various use case in analyzing data from data warehouse in BigQuery. Some of possible use case are:\n",
    "- Data analyst chatbot. Enable QnA directly between end user with their business data via natural language.\n",
    "- Dashboard generator automation. An automatic dashboard that able to create insights from data in data warehouse.\n",
    "- Data analyst asistant. An assistant to data analyst and BI developer in creating, validating, and analyzing SQL query.\n",
    "\n",
    "\n",
    "\n",
    "In this tutorial, we will waltkthrough various prompting techniques for LLM to generate SQL statement for Google BigQuery. We will be using text-bison@001 model from Vertex AI PALM API.\n"
   ]
  },
  {
   "cell_type": "markdown",
   "id": "641ad69c-52a6-4dd3-a9ad-a76540b45bb3",
   "metadata": {
    "id": "641ad69c-52a6-4dd3-a9ad-a76540b45bb3"
   },
   "source": [
    "# Install Vertex AI SDK and Other Packages\n",
    "We will be using Vertex AI SDK and some Python packages such as Pandas and Plotly."
   ]
  },
  {
   "cell_type": "code",
   "execution_count": 40,
   "id": "acd622f8-c9bf-4b7b-941c-47c2ff7e285f",
   "metadata": {
    "colab": {
     "base_uri": "https://localhost:8080/"
    },
    "executionInfo": {
     "elapsed": 11841,
     "status": "ok",
     "timestamp": 1700416934849,
     "user": {
      "displayName": "choirul amri",
      "userId": "12293882328330692134"
     },
     "user_tz": -420
    },
    "id": "acd622f8-c9bf-4b7b-941c-47c2ff7e285f",
    "outputId": "ddd90721-3ca6-4cb8-cec2-cdf6058e3ef5"
   },
   "outputs": [
    {
     "name": "stdout",
     "output_type": "stream",
     "text": [
      "Requirement already satisfied: google-cloud-aiplatform in /home/jupyter/.local/lib/python3.10/site-packages (1.34.0)\n",
      "Requirement already satisfied: pandas in /home/jupyter/.local/lib/python3.10/site-packages (2.1.1)\n",
      "Requirement already satisfied: google-api-python-client in /home/jupyter/.local/lib/python3.10/site-packages (2.102.0)\n",
      "Requirement already satisfied: langchain in /opt/conda/lib/python3.10/site-packages (0.0.314)\n",
      "Requirement already satisfied: google-api-core[grpc]!=2.0.*,!=2.1.*,!=2.2.*,!=2.3.*,!=2.4.*,!=2.5.*,!=2.6.*,!=2.7.*,<3.0.0dev,>=1.32.0 in /opt/conda/lib/python3.10/site-packages (from google-cloud-aiplatform) (1.34.0)\n",
      "Requirement already satisfied: proto-plus<2.0.0dev,>=1.22.0 in /opt/conda/lib/python3.10/site-packages (from google-cloud-aiplatform) (1.22.3)\n",
      "Requirement already satisfied: protobuf!=3.20.0,!=3.20.1,!=4.21.0,!=4.21.1,!=4.21.2,!=4.21.3,!=4.21.4,!=4.21.5,<5.0.0dev,>=3.19.5 in /opt/conda/lib/python3.10/site-packages (from google-cloud-aiplatform) (3.20.3)\n",
      "Requirement already satisfied: packaging>=14.3 in /opt/conda/lib/python3.10/site-packages (from google-cloud-aiplatform) (23.1)\n",
      "Requirement already satisfied: google-cloud-storage<3.0.0dev,>=1.32.0 in /opt/conda/lib/python3.10/site-packages (from google-cloud-aiplatform) (2.11.0)\n",
      "Requirement already satisfied: google-cloud-bigquery<4.0.0dev,>=1.15.0 in /opt/conda/lib/python3.10/site-packages (from google-cloud-aiplatform) (3.12.0)\n",
      "Requirement already satisfied: google-cloud-resource-manager<3.0.0dev,>=1.3.3 in /opt/conda/lib/python3.10/site-packages (from google-cloud-aiplatform) (1.10.3)\n",
      "Requirement already satisfied: shapely<2.0.0 in /opt/conda/lib/python3.10/site-packages (from google-cloud-aiplatform) (1.8.5.post1)\n",
      "Requirement already satisfied: numpy>=1.22.4 in /opt/conda/lib/python3.10/site-packages (from pandas) (1.26.0)\n",
      "Requirement already satisfied: python-dateutil>=2.8.2 in /opt/conda/lib/python3.10/site-packages (from pandas) (2.8.2)\n",
      "Requirement already satisfied: pytz>=2020.1 in /opt/conda/lib/python3.10/site-packages (from pandas) (2023.3)\n",
      "Requirement already satisfied: tzdata>=2022.1 in /opt/conda/lib/python3.10/site-packages (from pandas) (2023.3)\n",
      "Requirement already satisfied: httplib2<1.dev0,>=0.15.0 in /opt/conda/lib/python3.10/site-packages (from google-api-python-client) (0.22.0)\n",
      "Requirement already satisfied: google-auth<3.0.0.dev0,>=1.19.0 in /opt/conda/lib/python3.10/site-packages (from google-api-python-client) (2.22.0)\n",
      "Requirement already satisfied: google-auth-httplib2>=0.1.0 in /opt/conda/lib/python3.10/site-packages (from google-api-python-client) (0.1.0)\n",
      "Requirement already satisfied: uritemplate<5,>=3.0.1 in /opt/conda/lib/python3.10/site-packages (from google-api-python-client) (3.0.1)\n",
      "Requirement already satisfied: PyYAML>=5.3 in /opt/conda/lib/python3.10/site-packages (from langchain) (6.0.1)\n",
      "Requirement already satisfied: SQLAlchemy<3,>=1.4 in /opt/conda/lib/python3.10/site-packages (from langchain) (1.4.48)\n",
      "Requirement already satisfied: aiohttp<4.0.0,>=3.8.3 in /opt/conda/lib/python3.10/site-packages (from langchain) (3.8.5)\n",
      "Requirement already satisfied: anyio<4.0 in /opt/conda/lib/python3.10/site-packages (from langchain) (3.7.1)\n",
      "Requirement already satisfied: async-timeout<5.0.0,>=4.0.0 in /opt/conda/lib/python3.10/site-packages (from langchain) (4.0.3)\n",
      "Requirement already satisfied: dataclasses-json<0.7,>=0.5.7 in /home/jupyter/.local/lib/python3.10/site-packages (from langchain) (0.5.14)\n",
      "Requirement already satisfied: jsonpatch<2.0,>=1.33 in /opt/conda/lib/python3.10/site-packages (from langchain) (1.33)\n",
      "Requirement already satisfied: langsmith<0.1.0,>=0.0.43 in /opt/conda/lib/python3.10/site-packages (from langchain) (0.0.43)\n",
      "Requirement already satisfied: pydantic<3,>=1 in /home/jupyter/.local/lib/python3.10/site-packages (from langchain) (1.10.8)\n",
      "Requirement already satisfied: requests<3,>=2 in /opt/conda/lib/python3.10/site-packages (from langchain) (2.31.0)\n",
      "Requirement already satisfied: tenacity<9.0.0,>=8.1.0 in /opt/conda/lib/python3.10/site-packages (from langchain) (8.2.3)\n",
      "Requirement already satisfied: attrs>=17.3.0 in /opt/conda/lib/python3.10/site-packages (from aiohttp<4.0.0,>=3.8.3->langchain) (23.1.0)\n",
      "Requirement already satisfied: charset-normalizer<4.0,>=2.0 in /opt/conda/lib/python3.10/site-packages (from aiohttp<4.0.0,>=3.8.3->langchain) (3.2.0)\n",
      "Requirement already satisfied: multidict<7.0,>=4.5 in /opt/conda/lib/python3.10/site-packages (from aiohttp<4.0.0,>=3.8.3->langchain) (6.0.4)\n",
      "Requirement already satisfied: yarl<2.0,>=1.0 in /opt/conda/lib/python3.10/site-packages (from aiohttp<4.0.0,>=3.8.3->langchain) (1.9.2)\n",
      "Requirement already satisfied: frozenlist>=1.1.1 in /opt/conda/lib/python3.10/site-packages (from aiohttp<4.0.0,>=3.8.3->langchain) (1.4.0)\n",
      "Requirement already satisfied: aiosignal>=1.1.2 in /opt/conda/lib/python3.10/site-packages (from aiohttp<4.0.0,>=3.8.3->langchain) (1.3.1)\n",
      "Requirement already satisfied: idna>=2.8 in /opt/conda/lib/python3.10/site-packages (from anyio<4.0->langchain) (3.4)\n",
      "Requirement already satisfied: sniffio>=1.1 in /opt/conda/lib/python3.10/site-packages (from anyio<4.0->langchain) (1.3.0)\n",
      "Requirement already satisfied: exceptiongroup in /opt/conda/lib/python3.10/site-packages (from anyio<4.0->langchain) (1.1.3)\n",
      "Requirement already satisfied: marshmallow<4.0.0,>=3.18.0 in /opt/conda/lib/python3.10/site-packages (from dataclasses-json<0.7,>=0.5.7->langchain) (3.20.1)\n",
      "Requirement already satisfied: typing-inspect<1,>=0.4.0 in /home/jupyter/.local/lib/python3.10/site-packages (from dataclasses-json<0.7,>=0.5.7->langchain) (0.8.0)\n",
      "Requirement already satisfied: googleapis-common-protos<2.0dev,>=1.56.2 in /opt/conda/lib/python3.10/site-packages (from google-api-core[grpc]!=2.0.*,!=2.1.*,!=2.2.*,!=2.3.*,!=2.4.*,!=2.5.*,!=2.6.*,!=2.7.*,<3.0.0dev,>=1.32.0->google-cloud-aiplatform) (1.60.0)\n",
      "Requirement already satisfied: grpcio<2.0dev,>=1.33.2 in /opt/conda/lib/python3.10/site-packages (from google-api-core[grpc]!=2.0.*,!=2.1.*,!=2.2.*,!=2.3.*,!=2.4.*,!=2.5.*,!=2.6.*,!=2.7.*,<3.0.0dev,>=1.32.0->google-cloud-aiplatform) (1.57.0)\n",
      "Requirement already satisfied: grpcio-status<2.0dev,>=1.33.2 in /opt/conda/lib/python3.10/site-packages (from google-api-core[grpc]!=2.0.*,!=2.1.*,!=2.2.*,!=2.3.*,!=2.4.*,!=2.5.*,!=2.6.*,!=2.7.*,<3.0.0dev,>=1.32.0->google-cloud-aiplatform) (1.48.2)\n",
      "Requirement already satisfied: cachetools<6.0,>=2.0.0 in /opt/conda/lib/python3.10/site-packages (from google-auth<3.0.0.dev0,>=1.19.0->google-api-python-client) (5.3.1)\n",
      "Requirement already satisfied: pyasn1-modules>=0.2.1 in /opt/conda/lib/python3.10/site-packages (from google-auth<3.0.0.dev0,>=1.19.0->google-api-python-client) (0.3.0)\n",
      "Requirement already satisfied: rsa<5,>=3.1.4 in /opt/conda/lib/python3.10/site-packages (from google-auth<3.0.0.dev0,>=1.19.0->google-api-python-client) (4.9)\n",
      "Requirement already satisfied: six>=1.9.0 in /opt/conda/lib/python3.10/site-packages (from google-auth<3.0.0.dev0,>=1.19.0->google-api-python-client) (1.16.0)\n",
      "Requirement already satisfied: urllib3<2.0 in /opt/conda/lib/python3.10/site-packages (from google-auth<3.0.0.dev0,>=1.19.0->google-api-python-client) (1.26.16)\n",
      "Requirement already satisfied: google-cloud-core<3.0.0dev,>=1.6.0 in /opt/conda/lib/python3.10/site-packages (from google-cloud-bigquery<4.0.0dev,>=1.15.0->google-cloud-aiplatform) (2.3.3)\n",
      "Requirement already satisfied: google-resumable-media<3.0dev,>=0.6.0 in /opt/conda/lib/python3.10/site-packages (from google-cloud-bigquery<4.0.0dev,>=1.15.0->google-cloud-aiplatform) (2.6.0)\n",
      "Requirement already satisfied: grpc-google-iam-v1<1.0.0dev,>=0.12.4 in /opt/conda/lib/python3.10/site-packages (from google-cloud-resource-manager<3.0.0dev,>=1.3.3->google-cloud-aiplatform) (0.12.6)\n",
      "Requirement already satisfied: pyparsing!=3.0.0,!=3.0.1,!=3.0.2,!=3.0.3,<4,>=2.4.2 in /opt/conda/lib/python3.10/site-packages (from httplib2<1.dev0,>=0.15.0->google-api-python-client) (3.0.9)\n",
      "Requirement already satisfied: jsonpointer>=1.9 in /opt/conda/lib/python3.10/site-packages (from jsonpatch<2.0,>=1.33->langchain) (2.0)\n",
      "Requirement already satisfied: typing-extensions>=4.2.0 in /home/jupyter/.local/lib/python3.10/site-packages (from pydantic<3,>=1->langchain) (4.5.0)\n",
      "Requirement already satisfied: certifi>=2017.4.17 in /opt/conda/lib/python3.10/site-packages (from requests<3,>=2->langchain) (2023.7.22)\n",
      "Requirement already satisfied: greenlet!=0.4.17 in /opt/conda/lib/python3.10/site-packages (from SQLAlchemy<3,>=1.4->langchain) (2.0.2)\n",
      "Requirement already satisfied: google-crc32c<2.0dev,>=1.0 in /opt/conda/lib/python3.10/site-packages (from google-resumable-media<3.0dev,>=0.6.0->google-cloud-bigquery<4.0.0dev,>=1.15.0->google-cloud-aiplatform) (1.5.0)\n",
      "Requirement already satisfied: pyasn1<0.6.0,>=0.4.6 in /opt/conda/lib/python3.10/site-packages (from pyasn1-modules>=0.2.1->google-auth<3.0.0.dev0,>=1.19.0->google-api-python-client) (0.5.0)\n",
      "Requirement already satisfied: mypy-extensions>=0.3.0 in /opt/conda/lib/python3.10/site-packages (from typing-inspect<1,>=0.4.0->dataclasses-json<0.7,>=0.5.7->langchain) (1.0.0)\n"
     ]
    }
   ],
   "source": [
    "!pip install google-cloud-aiplatform pandas google-api-python-client langchain"
   ]
  },
  {
   "cell_type": "markdown",
   "id": "sn0oT9WhzyBp",
   "metadata": {
    "id": "sn0oT9WhzyBp"
   },
   "source": [
    "We will be using [Python Client fo BigQuery](https://cloud.google.com/python/docs/reference/bigquery/latest) to connect directly to BigQuery's dataset and table.  "
   ]
  },
  {
   "cell_type": "code",
   "execution_count": 3,
   "id": "a91fdaa3-bc11-427c-91df-771acdaaa535",
   "metadata": {
    "id": "a91fdaa3-bc11-427c-91df-771acdaaa535"
   },
   "outputs": [],
   "source": [
    "# import required packages\n",
    "import vertexai\n",
    "import pandas as pd\n",
    "from vertexai.language_models import TextGenerationModel\n",
    "from google.cloud import aiplatform\n",
    "from google.cloud import bigquery\n",
    "import os\n",
    "\n",
    "from IPython.display import Markdown as md\n"
   ]
  },
  {
   "cell_type": "markdown",
   "id": "lslVNHIc1FQa",
   "metadata": {
    "id": "lslVNHIc1FQa"
   },
   "source": [
    "## Specify project detail and location"
   ]
  },
  {
   "cell_type": "code",
   "execution_count": 4,
   "id": "5f6952c4-25e9-4b99-a2ff-5f7be90ae833",
   "metadata": {
    "id": "5f6952c4-25e9-4b99-a2ff-5f7be90ae833"
   },
   "outputs": [],
   "source": [
    "#change projectid as required\n",
    "\n",
    "project_id = \"myprojectid\"  # @param {type:\"string\"}\n",
    "location = \"us-central1\"  # @param {type:\"string\"}\n",
    "dataset_id = 'rabbitconsulting' # @param {type:\"string\"}\n"
   ]
  },
  {
   "cell_type": "code",
   "execution_count": 5,
   "id": "HuVR5SU9tFph",
   "metadata": {
    "id": "HuVR5SU9tFph"
   },
   "outputs": [],
   "source": [
    "# authenticate to google cloud account\n",
    "\n",
    "# use the following auth method ONLY if you use google colab\n",
    "\n",
    "#from google.colab import auth as google_auth\n",
    "#google_auth.authenticate_user()"
   ]
  },
  {
   "cell_type": "markdown",
   "id": "z7Z9STU-1sVV",
   "metadata": {
    "id": "z7Z9STU-1sVV"
   },
   "source": [
    "## Initiate Vertex AI LLM and BigQuery client"
   ]
  },
  {
   "cell_type": "code",
   "execution_count": 6,
   "id": "9b8c7714-2a35-4c89-8379-c99086668491",
   "metadata": {
    "id": "9b8c7714-2a35-4c89-8379-c99086668491"
   },
   "outputs": [],
   "source": [
    "vertexai.init(project=project_id, location=location)\n",
    "generation_model = TextGenerationModel.from_pretrained(model_name=\"text-bison@001\")\n",
    "\n",
    "bq_client = bigquery.Client(project=project_id, location=location)"
   ]
  },
  {
   "cell_type": "markdown",
   "id": "kV1_9HzRgd5V",
   "metadata": {
    "id": "kV1_9HzRgd5V"
   },
   "source": [
    "# Load Sample Dataset to BigQuery"
   ]
  },
  {
   "cell_type": "code",
   "execution_count": null,
   "id": "WnAMaPvU3Az7",
   "metadata": {
    "id": "WnAMaPvU3Az7"
   },
   "outputs": [],
   "source": [
    "#create bigquery dataset\n",
    "\n",
    "#define fullt qualified dataset name: \"projectid.datasetid\"\n",
    "dataset_id = \"{}.{}\".format(project_id, dataset_id)\n",
    "\n",
    "#create BigQuery dataset\n",
    "dataset = bq_client.create_dataset(dataset_id, timeout=30)\n",
    "print(\"Created dataset {}.{}\".format(bq_client.project, dataset.dataset_id))"
   ]
  },
  {
   "cell_type": "code",
   "execution_count": 9,
   "id": "UCZPElNR69Bq",
   "metadata": {
    "colab": {
     "base_uri": "https://localhost:8080/"
    },
    "executionInfo": {
     "elapsed": 3418,
     "status": "ok",
     "timestamp": 1700416610221,
     "user": {
      "displayName": "choirul amri",
      "userId": "12293882328330692134"
     },
     "user_tz": -420
    },
    "id": "UCZPElNR69Bq",
    "outputId": "37d4624b-d65c-4578-8b64-c976614627b6"
   },
   "outputs": [],
   "source": [
    "#get csv file from repository\n",
    "\n",
    "customerfile= 'https://raw.githubusercontent.com/mchoirul/genai-code/main/sampledata/rabbit_customer_dummy.csv'\n",
    "ordertransactionfile = 'https://raw.githubusercontent.com/mchoirul/genai-code/main/sampledata/rabbit-customer-transaction.csv'\n",
    "surveyfile = 'https://raw.githubusercontent.com/mchoirul/genai-code/main/sampledata/rabbit-satisfactionsurvey.csv'"
   ]
  },
  {
   "cell_type": "code",
   "execution_count": 10,
   "id": "EToGYBZb5XIA",
   "metadata": {
    "id": "EToGYBZb5XIA"
   },
   "outputs": [],
   "source": [
    "#create function to import csv to BigQuery\n",
    "def import_csv_to_bq (filepath, table_id):\n",
    "\n",
    "  job_config = bigquery.LoadJobConfig(\n",
    "      source_format=bigquery.SourceFormat.CSV, skip_leading_rows=1, autodetect=True,\n",
    "          write_disposition=bigquery.WriteDisposition.WRITE_TRUNCATE )\n",
    "\n",
    "  df = pd.read_csv(filepath, delimiter=',', )\n",
    "  load_job = bq_client.load_table_from_dataframe(dataframe=df,\n",
    "                                          destination=table_id,\n",
    "                                            job_config=job_config)  # Make an API request.\n",
    "\n",
    "\n",
    "  load_job.result()  # Waits for the job to complete.\n",
    "\n",
    "  table = bq_client.get_table(table_id)  # Make an API request.\n",
    "  print(\n",
    "      \"Loaded {} rows and {} columns to {}\".format(\n",
    "          table.num_rows, len(table.schema), table_id\n",
    "      )\n",
    ")"
   ]
  },
  {
   "cell_type": "code",
   "execution_count": 14,
   "id": "5DH81mI__5si",
   "metadata": {
    "colab": {
     "base_uri": "https://localhost:8080/",
     "height": 241
    },
    "executionInfo": {
     "elapsed": 6622,
     "status": "ok",
     "timestamp": 1700416623310,
     "user": {
      "displayName": "choirul amri",
      "userId": "12293882328330692134"
     },
     "user_tz": -420
    },
    "id": "5DH81mI__5si",
    "outputId": "1627dc97-8fb6-4601-e9de-21b3e56122a9"
   },
   "outputs": [
    {
     "name": "stdout",
     "output_type": "stream",
     "text": [
      "myprojectid.rabbitconsulting.customerdata\n",
      "Loaded 58 rows and 7 columns to myprojectid.rabbitconsulting.customerdata\n"
     ]
    },
    {
     "data": {
      "text/html": [
       "<div>\n",
       "<style scoped>\n",
       "    .dataframe tbody tr th:only-of-type {\n",
       "        vertical-align: middle;\n",
       "    }\n",
       "\n",
       "    .dataframe tbody tr th {\n",
       "        vertical-align: top;\n",
       "    }\n",
       "\n",
       "    .dataframe thead th {\n",
       "        text-align: right;\n",
       "    }\n",
       "</style>\n",
       "<table border=\"1\" class=\"dataframe\">\n",
       "  <thead>\n",
       "    <tr style=\"text-align: right;\">\n",
       "      <th></th>\n",
       "      <th>custid</th>\n",
       "      <th>custname</th>\n",
       "      <th>dateofbirth</th>\n",
       "      <th>city_address</th>\n",
       "      <th>nationality</th>\n",
       "      <th>memberstatus</th>\n",
       "      <th>education</th>\n",
       "    </tr>\n",
       "  </thead>\n",
       "  <tbody>\n",
       "    <tr>\n",
       "      <th>0</th>\n",
       "      <td>31</td>\n",
       "      <td>Mickey Mouse</td>\n",
       "      <td>1950-01-01</td>\n",
       "      <td>Jakarta</td>\n",
       "      <td>Indonesia</td>\n",
       "      <td>YES</td>\n",
       "      <td>Bachelor</td>\n",
       "    </tr>\n",
       "    <tr>\n",
       "      <th>1</th>\n",
       "      <td>8</td>\n",
       "      <td>Iron Man</td>\n",
       "      <td>1960-03-03</td>\n",
       "      <td>Pontianak</td>\n",
       "      <td>Indonesia</td>\n",
       "      <td>NO</td>\n",
       "      <td>Doctorate</td>\n",
       "    </tr>\n",
       "    <tr>\n",
       "      <th>2</th>\n",
       "      <td>20</td>\n",
       "      <td>Beast</td>\n",
       "      <td>1960-03-03</td>\n",
       "      <td>Jambi</td>\n",
       "      <td>Indonesia</td>\n",
       "      <td>NO</td>\n",
       "      <td>Doctorate</td>\n",
       "    </tr>\n",
       "    <tr>\n",
       "      <th>3</th>\n",
       "      <td>38</td>\n",
       "      <td>Dale</td>\n",
       "      <td>1960-03-03</td>\n",
       "      <td>Pontianak</td>\n",
       "      <td>Indonesia</td>\n",
       "      <td>NO</td>\n",
       "      <td>Doctorate</td>\n",
       "    </tr>\n",
       "    <tr>\n",
       "      <th>4</th>\n",
       "      <td>50</td>\n",
       "      <td>Max Goof</td>\n",
       "      <td>1960-03-03</td>\n",
       "      <td>Jambi</td>\n",
       "      <td>Indonesia</td>\n",
       "      <td>NO</td>\n",
       "      <td>Doctorate</td>\n",
       "    </tr>\n",
       "  </tbody>\n",
       "</table>\n",
       "</div>"
      ],
      "text/plain": [
       "   custid      custname dateofbirth city_address nationality memberstatus  \\\n",
       "0      31  Mickey Mouse  1950-01-01      Jakarta   Indonesia          YES   \n",
       "1       8      Iron Man  1960-03-03    Pontianak   Indonesia           NO   \n",
       "2      20         Beast  1960-03-03        Jambi   Indonesia           NO   \n",
       "3      38          Dale  1960-03-03    Pontianak   Indonesia           NO   \n",
       "4      50      Max Goof  1960-03-03        Jambi   Indonesia           NO   \n",
       "\n",
       "   education  \n",
       "0   Bachelor  \n",
       "1  Doctorate  \n",
       "2  Doctorate  \n",
       "3  Doctorate  \n",
       "4  Doctorate  "
      ]
     },
     "execution_count": 14,
     "metadata": {},
     "output_type": "execute_result"
    }
   ],
   "source": [
    "#import customer csv\n",
    "tablename = 'customerdata'\n",
    "table_id = \"{}.{}\".format(dataset_id, tablename) #fully qualified table name\n",
    "print (table_id)\n",
    "\n",
    "import_csv_to_bq(customerfile, table_id)\n",
    "\n",
    "#preview imported data\n",
    "bq_client.query(\"SELECT * FROM \"+ table_id).to_dataframe().head()"
   ]
  },
  {
   "cell_type": "code",
   "execution_count": 15,
   "id": "rECQLE9fBemh",
   "metadata": {
    "colab": {
     "base_uri": "https://localhost:8080/",
     "height": 241
    },
    "executionInfo": {
     "elapsed": 5756,
     "status": "ok",
     "timestamp": 1700416631216,
     "user": {
      "displayName": "choirul amri",
      "userId": "12293882328330692134"
     },
     "user_tz": -420
    },
    "id": "rECQLE9fBemh",
    "outputId": "e8f8e821-fdf8-44ee-bc55-2ea2b52e341c"
   },
   "outputs": [
    {
     "name": "stdout",
     "output_type": "stream",
     "text": [
      "myprojectid.rabbitconsulting.ordertransaction\n",
      "Loaded 279 rows and 7 columns to myprojectid.rabbitconsulting.ordertransaction\n"
     ]
    },
    {
     "data": {
      "text/html": [
       "<div>\n",
       "<style scoped>\n",
       "    .dataframe tbody tr th:only-of-type {\n",
       "        vertical-align: middle;\n",
       "    }\n",
       "\n",
       "    .dataframe tbody tr th {\n",
       "        vertical-align: top;\n",
       "    }\n",
       "\n",
       "    .dataframe thead th {\n",
       "        text-align: right;\n",
       "    }\n",
       "</style>\n",
       "<table border=\"1\" class=\"dataframe\">\n",
       "  <thead>\n",
       "    <tr style=\"text-align: right;\">\n",
       "      <th></th>\n",
       "      <th>transactionid</th>\n",
       "      <th>custid</th>\n",
       "      <th>transactsitelocation</th>\n",
       "      <th>transactiondate</th>\n",
       "      <th>servicecategory</th>\n",
       "      <th>transactionamount</th>\n",
       "      <th>servingconsultant</th>\n",
       "    </tr>\n",
       "  </thead>\n",
       "  <tbody>\n",
       "    <tr>\n",
       "      <th>0</th>\n",
       "      <td>TX3008</td>\n",
       "      <td>27</td>\n",
       "      <td>Surabaya</td>\n",
       "      <td>2022-01-08</td>\n",
       "      <td>Eye Care</td>\n",
       "      <td>800000</td>\n",
       "      <td>Ema</td>\n",
       "    </tr>\n",
       "    <tr>\n",
       "      <th>1</th>\n",
       "      <td>TX3028</td>\n",
       "      <td>33</td>\n",
       "      <td>Bandung</td>\n",
       "      <td>2022-01-28</td>\n",
       "      <td>Eye Care</td>\n",
       "      <td>800000</td>\n",
       "      <td>Ema</td>\n",
       "    </tr>\n",
       "    <tr>\n",
       "      <th>2</th>\n",
       "      <td>TX3040</td>\n",
       "      <td>21</td>\n",
       "      <td>Bandung</td>\n",
       "      <td>2022-02-10</td>\n",
       "      <td>Covid Test</td>\n",
       "      <td>2900000</td>\n",
       "      <td>Ema</td>\n",
       "    </tr>\n",
       "    <tr>\n",
       "      <th>3</th>\n",
       "      <td>TX1004</td>\n",
       "      <td>12</td>\n",
       "      <td>Bandung</td>\n",
       "      <td>2023-03-11</td>\n",
       "      <td>Consultation</td>\n",
       "      <td>500000</td>\n",
       "      <td>Ema</td>\n",
       "    </tr>\n",
       "    <tr>\n",
       "      <th>4</th>\n",
       "      <td>TX1024</td>\n",
       "      <td>12</td>\n",
       "      <td>Bandung</td>\n",
       "      <td>2023-03-31</td>\n",
       "      <td>Consultation</td>\n",
       "      <td>500000</td>\n",
       "      <td>Ema</td>\n",
       "    </tr>\n",
       "  </tbody>\n",
       "</table>\n",
       "</div>"
      ],
      "text/plain": [
       "  transactionid  custid transactsitelocation transactiondate servicecategory  \\\n",
       "0        TX3008      27             Surabaya      2022-01-08        Eye Care   \n",
       "1        TX3028      33              Bandung      2022-01-28        Eye Care   \n",
       "2        TX3040      21              Bandung      2022-02-10      Covid Test   \n",
       "3        TX1004      12              Bandung      2023-03-11    Consultation   \n",
       "4        TX1024      12              Bandung      2023-03-31    Consultation   \n",
       "\n",
       "   transactionamount servingconsultant  \n",
       "0             800000               Ema  \n",
       "1             800000               Ema  \n",
       "2            2900000               Ema  \n",
       "3             500000               Ema  \n",
       "4             500000               Ema  "
      ]
     },
     "execution_count": 15,
     "metadata": {},
     "output_type": "execute_result"
    }
   ],
   "source": [
    "#import order transaction to BigQuery\n",
    "tablename = 'ordertransaction'\n",
    "table_id = \"{}.{}\".format(dataset_id, tablename) #fully qualified table name\n",
    "print (table_id)\n",
    "\n",
    "import_csv_to_bq(ordertransactionfile, table_id)\n",
    "\n",
    "#preview imported data\n",
    "bq_client.query(\"SELECT * FROM \"+ table_id).to_dataframe().head()"
   ]
  },
  {
   "cell_type": "code",
   "execution_count": 16,
   "id": "GqP_6jczB2_S",
   "metadata": {
    "colab": {
     "base_uri": "https://localhost:8080/",
     "height": 241
    },
    "executionInfo": {
     "elapsed": 4755,
     "status": "ok",
     "timestamp": 1700416635967,
     "user": {
      "displayName": "choirul amri",
      "userId": "12293882328330692134"
     },
     "user_tz": -420
    },
    "id": "GqP_6jczB2_S",
    "outputId": "711a598f-e09a-4f91-fe07-5a3e41102f22"
   },
   "outputs": [
    {
     "name": "stdout",
     "output_type": "stream",
     "text": [
      "myprojectid.rabbitconsulting.satisfactionsurvey\n",
      "Loaded 279 rows and 2 columns to myprojectid.rabbitconsulting.satisfactionsurvey\n"
     ]
    },
    {
     "data": {
      "text/html": [
       "<div>\n",
       "<style scoped>\n",
       "    .dataframe tbody tr th:only-of-type {\n",
       "        vertical-align: middle;\n",
       "    }\n",
       "\n",
       "    .dataframe tbody tr th {\n",
       "        vertical-align: top;\n",
       "    }\n",
       "\n",
       "    .dataframe thead th {\n",
       "        text-align: right;\n",
       "    }\n",
       "</style>\n",
       "<table border=\"1\" class=\"dataframe\">\n",
       "  <thead>\n",
       "    <tr style=\"text-align: right;\">\n",
       "      <th></th>\n",
       "      <th>transactionid</th>\n",
       "      <th>surveyscore</th>\n",
       "    </tr>\n",
       "  </thead>\n",
       "  <tbody>\n",
       "    <tr>\n",
       "      <th>0</th>\n",
       "      <td>TX3070</td>\n",
       "      <td>61</td>\n",
       "    </tr>\n",
       "    <tr>\n",
       "      <th>1</th>\n",
       "      <td>TX3091</td>\n",
       "      <td>61</td>\n",
       "    </tr>\n",
       "    <tr>\n",
       "      <th>2</th>\n",
       "      <td>TX3093</td>\n",
       "      <td>61</td>\n",
       "    </tr>\n",
       "    <tr>\n",
       "      <th>3</th>\n",
       "      <td>TX5147</td>\n",
       "      <td>61</td>\n",
       "    </tr>\n",
       "    <tr>\n",
       "      <th>4</th>\n",
       "      <td>TX3027</td>\n",
       "      <td>62</td>\n",
       "    </tr>\n",
       "  </tbody>\n",
       "</table>\n",
       "</div>"
      ],
      "text/plain": [
       "  transactionid  surveyscore\n",
       "0        TX3070           61\n",
       "1        TX3091           61\n",
       "2        TX3093           61\n",
       "3        TX5147           61\n",
       "4        TX3027           62"
      ]
     },
     "execution_count": 16,
     "metadata": {},
     "output_type": "execute_result"
    }
   ],
   "source": [
    "#import survey data to BigQuery\n",
    "tablename = 'satisfactionsurvey'\n",
    "table_id = \"{}.{}\".format(dataset_id, tablename) #fully qualified table name\n",
    "print (table_id)\n",
    "\n",
    "import_csv_to_bq(surveyfile, table_id)\n",
    "\n",
    "#preview imported data\n",
    "bq_client.query(\"SELECT * FROM \"+ table_id).to_dataframe().head()"
   ]
  },
  {
   "cell_type": "markdown",
   "id": "6u1UGyvh1hUh",
   "metadata": {
    "id": "6u1UGyvh1hUh"
   },
   "source": [
    "# Create Prompt for Text to SQL"
   ]
  },
  {
   "cell_type": "code",
   "execution_count": 17,
   "id": "1c1aa3e9-c4cd-4e6d-9a82-4ccefb8bbe3b",
   "metadata": {
    "id": "1c1aa3e9-c4cd-4e6d-9a82-4ccefb8bbe3b"
   },
   "outputs": [],
   "source": [
    "#create text string for prompt input to the model\n",
    "#define prompt engineering to generate SQL query\n",
    "\n",
    "#important: change myprojectid to your projectname\n",
    "\n",
    "#always limit query result to 50 rows as default row number, to save query cost\n",
    "def custom_prompt(question, top_k=50):\n",
    "    # question: user question\n",
    "    # top_k: limit number of rows returned - default is 50\n",
    "\n",
    "    prompt = \"\"\"\n",
    "    You are a GoogleSQL expert. This is a task converting text into GoogleSQL statement.\n",
    "    Use the following information to create a syntactically correct BigQuery query\n",
    "\n",
    "    Table information:\n",
    "    Table \\\"myprojectid.rabbitconsulting.customerdata\\\" contains customer detail information\n",
    "    Table \\\"myprojectid.rabbitconsulting.ordertransaction\\\" contains detail transaction for each customer\n",
    "    Table \\\"myprojectid.rabbitconsulting.satisfactionsurvey\\\" contains score for satisfaction survey of each transaction\n",
    "\n",
    "    Table and columns as follows:\n",
    "    Table \\\"myprojectid.rabbitconsulting.customerdata\\\"\n",
    "    Columns: custid (primary key), custname, dateofbirth, city_address, nationality, memberstatus, education\n",
    "\n",
    "    Table \\\"myprojectid.rabbitconsulting.ordertransaction\\\"\n",
    "    Columns: transactionid (primary key), custid (foreign key), transactsitelocation, transactiondate, servicecategory, transactionamount, servingconsultant\n",
    "\n",
    "    Table \\\"myprojectid.rabbitconsulting.satisfactionsurvey\\\"\n",
    "    Columns: transactionid (foreign key), surveyscore\n",
    "\n",
    "\n",
    "    The join between tables:\n",
    "    one to many join: myprojectid.rabbitconsulting.customerdata.custid = myprojectid.rabbitconsulting.ordertransaction.custid\n",
    "    one to many join: myprojectid.rabbitconsulting.ordertransaction.transactionid = myprojectid.rabbitconsulting.satisfactionsurvey.transactionid\n",
    "\n",
    "    Only use fields from each respecting table. Never use column that does not exists in the table.\n",
    "    Wrap each column name in backticks (`) to denote them as delimited identifiers.\n",
    "\n",
    "    Examples:\n",
    "    question: show average sales for each city when transaction happened in Jan-march 2023\n",
    "    answer: SELECT `city_address`, AVG(`transactionamount`) AS average_sales FROM myprojectid.rabbitconsulting.`ordertransaction` AS o JOIN myprojectid.rabbitconsulting.`customerdata` AS c ON c.`custid` = o.`custid` WHERE `transactiondate` BETWEEN '2023-01-01' AND '2023-03-31' GROUP BY `city_address`\n",
    "\n",
    "    question: show average satisfaction score for each consultant\n",
    "    answer: SELECT `servingconsultant`, AVG(`surveyscore`) AS average_satisfaction_score FROM myprojectid.rabbitconsulting.`ordertransaction` AS o JOIN myprojectid.rabbitconsulting.`satisfactionsurvey` AS s ON o.`transactionid` = s.`transactionid` GROUP BY `servingconsultant`\n",
    "\n",
    "    question: show total sales, transaction frequency, and average score for each city\n",
    "    answer: SELECT `city_address`, SUM(`transactionamount`) AS total_sales, COUNT(o.`transactionid`) AS transaction_frequency, AVG(`surveyscore`) AS average_score FROM myprojectid.rabbitconsulting.`customerdata` AS c JOIN myprojectid.rabbitconsulting.`ordertransaction` AS o ON c.`custid` = o.`custid` JOIN myprojectid.rabbitconsulting.`satisfactionsurvey` AS s ON o.`transactionid` = s.`transactionid` GROUP BY `city_address`\n",
    "\n",
    "    Always limit query using at most \"\"\" + str(top_k) + \"\"\" results using LIMIT clause.\n",
    "    If you cannot find the information or not sure, response \"I do not have enough data\"\n",
    "    If the answer require DML or DDL statement, reject and response \"Command not allowed\"\n",
    "    If the answer require query to INFORMATION_SCHEMA, reject and response \"Command not allowed\"\n",
    "    Never make up the answer.\n",
    "\n",
    "    Let's think step by step\n",
    "\n",
    "    Create SQL statement from the following question\n",
    "    question: \"\"\" + question\n",
    "\n",
    "    return prompt"
   ]
  },
  {
   "cell_type": "code",
   "execution_count": 18,
   "id": "f723ffce-5c63-4061-a3e1-9733dc8b59e7",
   "metadata": {
    "colab": {
     "base_uri": "https://localhost:8080/",
     "height": 105
    },
    "executionInfo": {
     "elapsed": 5,
     "status": "ok",
     "timestamp": 1700416697009,
     "user": {
      "displayName": "choirul amri",
      "userId": "12293882328330692134"
     },
     "user_tz": -420
    },
    "id": "f723ffce-5c63-4061-a3e1-9733dc8b59e7",
    "outputId": "c2832e78-e2ab-4af2-df46-64d6d7275719"
   },
   "outputs": [
    {
     "data": {
      "text/plain": [
       "'\\n    You are a GoogleSQL expert. This is a task converting text into GoogleSQL statement.\\n    Use the following information to create a syntactically correct BigQuery query\\n\\n    Table information:\\n    Table \"myprojectid.rabbitconsulting.customerdata\" contains customer detail information\\n    Table \"myprojectid.rabbitconsulting.ordertransaction\" contains detail transaction for each customer\\n    Table \"myprojectid.rabbitconsulting.satisfactionsurvey\" contains score for satisfaction survey of each transaction\\n\\n    Table and columns as follows:\\n    Table \"myprojectid.rabbitconsulting.customerdata\"\\n    Columns: custid (primary key), custname, dateofbirth, city_address, nationality, memberstatus, education\\n\\n    Table \"myprojectid.rabbitconsulting.ordertransaction\"\\n    Columns: transactionid (primary key), custid (foreign key), transactsitelocation, transactiondate, servicecategory, transactionamount, servingconsultant\\n\\n    Table \"myprojectid.rabbitconsulting.satisfactionsurvey\"\\n    Columns: transactionid (foreign key), surveyscore\\n\\n\\n    The join between tables:\\n    one to many join: myprojectid.rabbitconsulting.customerdata.custid = myprojectid.rabbitconsulting.ordertransaction.custid\\n    one to many join: myprojectid.rabbitconsulting.ordertransaction.transactionid = myprojectid.rabbitconsulting.satisfactionsurvey.transactionid\\n\\n    Only use fields from each respecting table. Never use column that does not exists in the table.\\n    Wrap each column name in backticks (`) to denote them as delimited identifiers.\\n\\n    Examples:\\n    question: show average sales for each city when transaction happened in Jan-march 2023\\n    answer: SELECT `city_address`, AVG(`transactionamount`) AS average_sales FROM myprojectid.rabbitconsulting.`ordertransaction` AS o JOIN myprojectid.rabbitconsulting.`customerdata` AS c ON c.`custid` = o.`custid` WHERE `transactiondate` BETWEEN \\'2023-01-01\\' AND \\'2023-03-31\\' GROUP BY `city_address`\\n\\n    question: show average satisfaction score for each consultant\\n    answer: SELECT `servingconsultant`, AVG(`surveyscore`) AS average_satisfaction_score FROM myprojectid.rabbitconsulting.`ordertransaction` AS o JOIN myprojectid.rabbitconsulting.`satisfactionsurvey` AS s ON o.`transactionid` = s.`transactionid` GROUP BY `servingconsultant`\\n\\n    question: show total sales, transaction frequency, and average score for each city\\n    answer: SELECT `city_address`, SUM(`transactionamount`) AS total_sales, COUNT(o.`transactionid`) AS transaction_frequency, AVG(`surveyscore`) AS average_score FROM myprojectid.rabbitconsulting.`customerdata` AS c JOIN myprojectid.rabbitconsulting.`ordertransaction` AS o ON c.`custid` = o.`custid` JOIN myprojectid.rabbitconsulting.`satisfactionsurvey` AS s ON o.`transactionid` = s.`transactionid` GROUP BY `city_address`\\n\\n    Always limit query using at most 50 results using LIMIT clause.\\n    If you cannot find the information or not sure, response \"I do not have enough data\"\\n    If the answer require DML or DDL statement, reject and response \"Command not allowed\"\\n    If the answer require query to INFORMATION_SCHEMA, reject and response \"Command not allowed\"\\n    Never make up the answer.\\n\\n    Let\\'s think step by step\\n\\n    Create SQL statement from the following question\\n    question: show total sales for each city'"
      ]
     },
     "execution_count": 18,
     "metadata": {},
     "output_type": "execute_result"
    }
   ],
   "source": [
    "#test prompt text template\n",
    "myquestion = \"show total sales for each city\"\n",
    "custom_prompt(myquestion)"
   ]
  },
  {
   "cell_type": "code",
   "execution_count": 19,
   "id": "5f3a50bb-0b2a-484b-9b42-3fcdbff8bd33",
   "metadata": {
    "id": "5f3a50bb-0b2a-484b-9b42-3fcdbff8bd33"
   },
   "outputs": [],
   "source": [
    "#using palm api from scratch to generate sql query\n",
    "\n",
    "#define function to call PALM LLM model\n",
    "def create_query(question, top_k=50):\n",
    "\n",
    "    #generate custom prompt\n",
    "    q = custom_prompt(question, top_k)\n",
    "\n",
    "    generated_query = generation_model.predict(\n",
    "        prompt=q,\n",
    "        max_output_tokens=1024,\n",
    "        temperature=0.0\n",
    "        ).text\n",
    "\n",
    "    return generated_query"
   ]
  },
  {
   "cell_type": "code",
   "execution_count": 20,
   "id": "QS2FhiPIalcM",
   "metadata": {
    "colab": {
     "base_uri": "https://localhost:8080/",
     "height": 70
    },
    "executionInfo": {
     "elapsed": 2033,
     "status": "ok",
     "timestamp": 1700416701055,
     "user": {
      "displayName": "choirul amri",
      "userId": "12293882328330692134"
     },
     "user_tz": -420
    },
    "id": "QS2FhiPIalcM",
    "outputId": "f93318ad-33f8-4359-e164-08250cfa1cd2"
   },
   "outputs": [
    {
     "data": {
      "text/plain": [
       "\"SELECT `city_address`, SUM(`transactionamount`) AS total_sales, COUNT(o.`transactionid`) AS transaction_frequency, AVG(`surveyscore`) AS average_score FROM myprojectid.rabbitconsulting.`customerdata` AS c JOIN myprojectid.rabbitconsulting.`ordertransaction` AS o ON c.`custid` = o.`custid` JOIN myprojectid.rabbitconsulting.`satisfactionsurvey` AS s ON o.`transactionid` = s.`transactionid` WHERE `transactiondate` BETWEEN '2023-01-01' AND '2023-03-31' GROUP BY `city_address` ORDER BY total_sales DESC LIMIT 50\""
      ]
     },
     "execution_count": 20,
     "metadata": {},
     "output_type": "execute_result"
    }
   ],
   "source": [
    "#test to generate SQL query #1\n",
    "create_query(\"show average sales, order frequency, and average score for each city when order period is between Jan - march 2023, then order by highest sales\")"
   ]
  },
  {
   "cell_type": "code",
   "execution_count": 21,
   "id": "cefddb55-5aec-4574-aa22-1ffb1cf7b88d",
   "metadata": {
    "colab": {
     "base_uri": "https://localhost:8080/",
     "height": 53
    },
    "executionInfo": {
     "elapsed": 1059,
     "status": "ok",
     "timestamp": 1700416703454,
     "user": {
      "displayName": "choirul amri",
      "userId": "12293882328330692134"
     },
     "user_tz": -420
    },
    "id": "cefddb55-5aec-4574-aa22-1ffb1cf7b88d",
    "outputId": "a7f479e8-9e32-4511-bfa2-74c88de596f7"
   },
   "outputs": [
    {
     "data": {
      "text/plain": [
       "\"SELECT * FROM myprojectid.rabbitconsulting.`ordertransaction` AS o JOIN myprojectid.rabbitconsulting.`customerdata` AS c ON c.`custid` = o.`custid` WHERE `city_address` IN ('Jakarta', 'Surabaya') AND `transactiondate` BETWEEN '2023-01-01' AND '2023-03-31' LIMIT 10\""
      ]
     },
     "execution_count": 21,
     "metadata": {},
     "output_type": "execute_result"
    }
   ],
   "source": [
    "#test to generate SQL query #3\n",
    "create_query(\"tampilkan 10 order dari jakarta and surabaya dalam periode Jan - March 2023\")"
   ]
  },
  {
   "cell_type": "code",
   "execution_count": 22,
   "id": "4fd791d9-63ca-4450-bf3c-c832de8966fd",
   "metadata": {
    "colab": {
     "base_uri": "https://localhost:8080/",
     "height": 35
    },
    "executionInfo": {
     "elapsed": 378,
     "status": "ok",
     "timestamp": 1700416705490,
     "user": {
      "displayName": "choirul amri",
      "userId": "12293882328330692134"
     },
     "user_tz": -420
    },
    "id": "4fd791d9-63ca-4450-bf3c-c832de8966fd",
    "outputId": "7c357bbb-e9d7-47e3-ae53-b98b0e0acdac"
   },
   "outputs": [
    {
     "data": {
      "text/plain": [
       "'Command not allowed'"
      ]
     },
     "execution_count": 22,
     "metadata": {},
     "output_type": "execute_result"
    }
   ],
   "source": [
    "#test to generate SQL query #4\n",
    "#this query is prohibited!\n",
    "create_query(\"SELECT * FROM myprojectid.rabbitconsulting.INFORMATION_SCHEMA.COLUMNS WHERE table_name = 'customerdata'\")"
   ]
  },
  {
   "cell_type": "markdown",
   "id": "qyo0fcYs1ymj",
   "metadata": {
    "id": "qyo0fcYs1ymj"
   },
   "source": [
    "#Execute Generated SQL to BigQuery"
   ]
  },
  {
   "cell_type": "markdown",
   "id": "G7WjUG3R1-Zr",
   "metadata": {
    "id": "G7WjUG3R1-Zr"
   },
   "source": [
    "## Create Function to Retrieve BQ Data"
   ]
  },
  {
   "cell_type": "code",
   "execution_count": 23,
   "id": "cd195b13-5642-46c2-8e30-79fce85bd9b7",
   "metadata": {
    "id": "cd195b13-5642-46c2-8e30-79fce85bd9b7"
   },
   "outputs": [],
   "source": [
    "#create function to execute generated query to BQ\n",
    "\n",
    "def bq_qa_llm(userquery, top_k=50):\n",
    "\n",
    "    query_job = bq_client.query(\n",
    "                                create_query(userquery, top_k))\n",
    "\n",
    "    rows = query_job.result()\n",
    "    return rows.to_dataframe()\n"
   ]
  },
  {
   "cell_type": "code",
   "execution_count": 24,
   "id": "76bf1ad0-5a1e-45b9-b4a4-baf02721d94b",
   "metadata": {
    "colab": {
     "base_uri": "https://localhost:8080/",
     "height": 363
    },
    "executionInfo": {
     "elapsed": 4121,
     "status": "ok",
     "timestamp": 1700416712384,
     "user": {
      "displayName": "choirul amri",
      "userId": "12293882328330692134"
     },
     "user_tz": -420
    },
    "id": "76bf1ad0-5a1e-45b9-b4a4-baf02721d94b",
    "outputId": "807ffffa-cabd-4742-9086-7313a842e3db"
   },
   "outputs": [
    {
     "data": {
      "text/html": [
       "<div>\n",
       "<style scoped>\n",
       "    .dataframe tbody tr th:only-of-type {\n",
       "        vertical-align: middle;\n",
       "    }\n",
       "\n",
       "    .dataframe tbody tr th {\n",
       "        vertical-align: top;\n",
       "    }\n",
       "\n",
       "    .dataframe thead th {\n",
       "        text-align: right;\n",
       "    }\n",
       "</style>\n",
       "<table border=\"1\" class=\"dataframe\">\n",
       "  <thead>\n",
       "    <tr style=\"text-align: right;\">\n",
       "      <th></th>\n",
       "      <th>city_address</th>\n",
       "      <th>total_sales</th>\n",
       "      <th>transaction_frequency</th>\n",
       "      <th>average_score</th>\n",
       "    </tr>\n",
       "  </thead>\n",
       "  <tbody>\n",
       "    <tr>\n",
       "      <th>0</th>\n",
       "      <td>Manado</td>\n",
       "      <td>9000000</td>\n",
       "      <td>3</td>\n",
       "      <td>88.000000</td>\n",
       "    </tr>\n",
       "    <tr>\n",
       "      <th>1</th>\n",
       "      <td>Makassar</td>\n",
       "      <td>8500000</td>\n",
       "      <td>4</td>\n",
       "      <td>79.250000</td>\n",
       "    </tr>\n",
       "    <tr>\n",
       "      <th>2</th>\n",
       "      <td>Pontianak</td>\n",
       "      <td>7000000</td>\n",
       "      <td>4</td>\n",
       "      <td>72.000000</td>\n",
       "    </tr>\n",
       "    <tr>\n",
       "      <th>3</th>\n",
       "      <td>Bandar Lampung</td>\n",
       "      <td>6500000</td>\n",
       "      <td>3</td>\n",
       "      <td>79.666667</td>\n",
       "    </tr>\n",
       "    <tr>\n",
       "      <th>4</th>\n",
       "      <td>Ambon</td>\n",
       "      <td>6500000</td>\n",
       "      <td>4</td>\n",
       "      <td>79.500000</td>\n",
       "    </tr>\n",
       "    <tr>\n",
       "      <th>5</th>\n",
       "      <td>Kupang</td>\n",
       "      <td>6200000</td>\n",
       "      <td>3</td>\n",
       "      <td>70.000000</td>\n",
       "    </tr>\n",
       "    <tr>\n",
       "      <th>6</th>\n",
       "      <td>Banjarmasin</td>\n",
       "      <td>5500000</td>\n",
       "      <td>4</td>\n",
       "      <td>73.250000</td>\n",
       "    </tr>\n",
       "    <tr>\n",
       "      <th>7</th>\n",
       "      <td>Pekanbaru</td>\n",
       "      <td>5500000</td>\n",
       "      <td>3</td>\n",
       "      <td>77.000000</td>\n",
       "    </tr>\n",
       "    <tr>\n",
       "      <th>8</th>\n",
       "      <td>Palembang</td>\n",
       "      <td>5500000</td>\n",
       "      <td>4</td>\n",
       "      <td>81.000000</td>\n",
       "    </tr>\n",
       "    <tr>\n",
       "      <th>9</th>\n",
       "      <td>Jambi</td>\n",
       "      <td>4000000</td>\n",
       "      <td>3</td>\n",
       "      <td>78.333333</td>\n",
       "    </tr>\n",
       "  </tbody>\n",
       "</table>\n",
       "</div>"
      ],
      "text/plain": [
       "     city_address  total_sales  transaction_frequency  average_score\n",
       "0          Manado      9000000                      3      88.000000\n",
       "1        Makassar      8500000                      4      79.250000\n",
       "2       Pontianak      7000000                      4      72.000000\n",
       "3  Bandar Lampung      6500000                      3      79.666667\n",
       "4           Ambon      6500000                      4      79.500000\n",
       "5          Kupang      6200000                      3      70.000000\n",
       "6     Banjarmasin      5500000                      4      73.250000\n",
       "7       Pekanbaru      5500000                      3      77.000000\n",
       "8       Palembang      5500000                      4      81.000000\n",
       "9           Jambi      4000000                      3      78.333333"
      ]
     },
     "execution_count": 24,
     "metadata": {},
     "output_type": "execute_result"
    }
   ],
   "source": [
    "#test to generate SQL query & execute to BQ #1\n",
    "#limit to 10 rows\n",
    "bq_qa_llm(\"show average sales, order frequency, and average score for each city when order period is between Jan - march 2023, then order by highest sales\", 10)"
   ]
  },
  {
   "cell_type": "code",
   "execution_count": 27,
   "id": "baWTNitPbSmF",
   "metadata": {
    "colab": {
     "base_uri": "https://localhost:8080/",
     "height": 143
    },
    "executionInfo": {
     "elapsed": 2283,
     "status": "ok",
     "timestamp": 1700416726535,
     "user": {
      "displayName": "choirul amri",
      "userId": "12293882328330692134"
     },
     "user_tz": -420
    },
    "id": "baWTNitPbSmF",
    "outputId": "79b98726-b496-40f6-a4ea-42ed96553580"
   },
   "outputs": [
    {
     "data": {
      "text/html": [
       "<div>\n",
       "<style scoped>\n",
       "    .dataframe tbody tr th:only-of-type {\n",
       "        vertical-align: middle;\n",
       "    }\n",
       "\n",
       "    .dataframe tbody tr th {\n",
       "        vertical-align: top;\n",
       "    }\n",
       "\n",
       "    .dataframe thead th {\n",
       "        text-align: right;\n",
       "    }\n",
       "</style>\n",
       "<table border=\"1\" class=\"dataframe\">\n",
       "  <thead>\n",
       "    <tr style=\"text-align: right;\">\n",
       "      <th></th>\n",
       "      <th>servicecategory</th>\n",
       "      <th>total_sales</th>\n",
       "    </tr>\n",
       "  </thead>\n",
       "  <tbody>\n",
       "    <tr>\n",
       "      <th>0</th>\n",
       "      <td>Covid Test</td>\n",
       "      <td>159300000</td>\n",
       "    </tr>\n",
       "    <tr>\n",
       "      <th>1</th>\n",
       "      <td>Skin Care</td>\n",
       "      <td>109000000</td>\n",
       "    </tr>\n",
       "    <tr>\n",
       "      <th>2</th>\n",
       "      <td>General Checkup</td>\n",
       "      <td>105200000</td>\n",
       "    </tr>\n",
       "  </tbody>\n",
       "</table>\n",
       "</div>"
      ],
      "text/plain": [
       "   servicecategory  total_sales\n",
       "0       Covid Test    159300000\n",
       "1        Skin Care    109000000\n",
       "2  General Checkup    105200000"
      ]
     },
     "execution_count": 27,
     "metadata": {},
     "output_type": "execute_result"
    }
   ],
   "source": [
    "bq_qa_llm(\"Tampilkan top 3 Layanan yang penjualannya paling bagus \")"
   ]
  },
  {
   "cell_type": "code",
   "execution_count": 28,
   "id": "b0d8a86b-4f12-456c-a554-d1bc988140bf",
   "metadata": {
    "colab": {
     "base_uri": "https://localhost:8080/",
     "height": 175
    },
    "executionInfo": {
     "elapsed": 3886,
     "status": "ok",
     "timestamp": 1700416735929,
     "user": {
      "displayName": "choirul amri",
      "userId": "12293882328330692134"
     },
     "user_tz": -420
    },
    "id": "b0d8a86b-4f12-456c-a554-d1bc988140bf",
    "outputId": "51d0f1bb-60c7-4433-abb4-c624094d5e0a"
   },
   "outputs": [
    {
     "data": {
      "text/html": [
       "<div>\n",
       "<style scoped>\n",
       "    .dataframe tbody tr th:only-of-type {\n",
       "        vertical-align: middle;\n",
       "    }\n",
       "\n",
       "    .dataframe tbody tr th {\n",
       "        vertical-align: top;\n",
       "    }\n",
       "\n",
       "    .dataframe thead th {\n",
       "        text-align: right;\n",
       "    }\n",
       "</style>\n",
       "<table border=\"1\" class=\"dataframe\">\n",
       "  <thead>\n",
       "    <tr style=\"text-align: right;\">\n",
       "      <th></th>\n",
       "      <th>servingconsultant</th>\n",
       "      <th>total_sales</th>\n",
       "      <th>transaction_frequency</th>\n",
       "      <th>average_score</th>\n",
       "    </tr>\n",
       "  </thead>\n",
       "  <tbody>\n",
       "    <tr>\n",
       "      <th>0</th>\n",
       "      <td>Ahmad</td>\n",
       "      <td>134900000</td>\n",
       "      <td>71</td>\n",
       "      <td>80.549296</td>\n",
       "    </tr>\n",
       "    <tr>\n",
       "      <th>1</th>\n",
       "      <td>Ema</td>\n",
       "      <td>120700000</td>\n",
       "      <td>69</td>\n",
       "      <td>82.159420</td>\n",
       "    </tr>\n",
       "    <tr>\n",
       "      <th>2</th>\n",
       "      <td>Boby</td>\n",
       "      <td>118200000</td>\n",
       "      <td>65</td>\n",
       "      <td>72.815385</td>\n",
       "    </tr>\n",
       "    <tr>\n",
       "      <th>3</th>\n",
       "      <td>Rany</td>\n",
       "      <td>114500000</td>\n",
       "      <td>65</td>\n",
       "      <td>76.430769</td>\n",
       "    </tr>\n",
       "  </tbody>\n",
       "</table>\n",
       "</div>"
      ],
      "text/plain": [
       "  servingconsultant  total_sales  transaction_frequency  average_score\n",
       "0             Ahmad    134900000                     71      80.549296\n",
       "1               Ema    120700000                     69      82.159420\n",
       "2              Boby    118200000                     65      72.815385\n",
       "3              Rany    114500000                     65      76.430769"
      ]
     },
     "execution_count": 28,
     "metadata": {},
     "output_type": "execute_result"
    }
   ],
   "source": [
    "bq_qa_llm(\"tampilkan total penjualan, frekuensi order, dan rata rata skor survey for untuk tiap konsultan. urutkan dari penjualan tertinggi\")"
   ]
  },
  {
   "cell_type": "markdown",
   "id": "Xca-iNY22GO3",
   "metadata": {
    "id": "Xca-iNY22GO3"
   },
   "source": [
    "## Explaining SQL Query in Human Language"
   ]
  },
  {
   "cell_type": "code",
   "execution_count": 29,
   "id": "cffa0001-7a5b-48a3-9e25-a0eb1c9078e1",
   "metadata": {
    "id": "cffa0001-7a5b-48a3-9e25-a0eb1c9078e1"
   },
   "outputs": [],
   "source": [
    "#using palm api to explain the logic of sql query\n",
    "def create_explanation(question, sql_answer):\n",
    "\n",
    "    explain_prompt=\"\"\"\n",
    "            You are an expert data analyst working with python, SQL, and pandas.\n",
    "            For the SQL query you have just created, explain why you have that ouput and how does it answer the question.\n",
    "\n",
    "            the original question is: \"\"\" + question + \"\"\"\n",
    "            your answer in SQL is: \"\"\" + sql_answer + \"\"\"\n",
    "\n",
    "            Explain how you came up with SQL code for non-technical people without mentioning technical details or mentioning the libraries used?\n",
    "            Always explain in Bahasa Indonesia\n",
    "\n",
    "            Explain your response using the following structure:\n",
    "\n",
    "            Objective: explain the objective by rephrase the original question \\n\n",
    "            Explanation: write your explanation for non technical people. please be concise and simple.\n",
    "            \"\"\"\n",
    "\n",
    "    explanation = generation_model.predict(\n",
    "        prompt=explain_prompt,\n",
    "        max_output_tokens=1024,\n",
    "        temperature=0.1,\n",
    "        top_k=40,\n",
    "        top_p=0.8\n",
    "        ).text\n",
    "\n",
    "    return explanation"
   ]
  },
  {
   "cell_type": "code",
   "execution_count": 30,
   "id": "b5505c26-e884-4eed-8f4d-6d8235ad7939",
   "metadata": {
    "colab": {
     "base_uri": "https://localhost:8080/",
     "height": 382
    },
    "executionInfo": {
     "elapsed": 5618,
     "status": "ok",
     "timestamp": 1700416873773,
     "user": {
      "displayName": "choirul amri",
      "userId": "12293882328330692134"
     },
     "user_tz": -420
    },
    "id": "b5505c26-e884-4eed-8f4d-6d8235ad7939",
    "outputId": "48a9d5a4-e71b-480d-d691-7cc990bdcdb5"
   },
   "outputs": [
    {
     "data": {
      "text/markdown": [
       "SELECT `city_address`, SUM(`transactionamount`) AS total_orders_amount, COUNT(o.`transactionid`) AS transaction_frequency FROM myprojectid.rabbitconsulting.`customerdata` AS c JOIN myprojectid.rabbitconsulting.`ordertransaction` AS o ON c.`custid` = o.`custid` JOIN myprojectid.rabbitconsulting.`satisfactionsurvey` AS s ON o.`transactionid` = s.`transactionid` WHERE `city_address` IN ('Jakarta', 'Surabaya') AND `transactiondate` BETWEEN '2023-01-01' AND '2023-06-30' GROUP BY `city_address` LIMIT 50"
      ],
      "text/plain": [
       "<IPython.core.display.Markdown object>"
      ]
     },
     "metadata": {},
     "output_type": "display_data"
    },
    {
     "data": {
      "text/markdown": [
       "**Objective:**\n",
       "\n",
       "            Menampilkan jumlah total transaksi dan frekuensi transaksi dari Jakarta dan Surabaya pada periode Januari - Juni 2023.\n",
       "\n",
       "            **Explanation:**\n",
       "\n",
       "            Untuk menjawab pertanyaan tersebut, saya menggunakan perintah SELECT untuk memilih kolom `city_address`, `total_orders_amount`, dan `transaction_frequency`. Kolom `city_address` digunakan untuk memilih data transaksi dari Jakarta dan Surabaya. Kolom `total_orders_amount` digunakan untuk menghitung jumlah total transaksi. Kolom `transaction_frequency` digunakan untuk menghitung frekuensi transaksi.\n",
       "\n",
       "            Selanjutnya, saya menggunakan perintah JOIN untuk menggabungkan tiga tabel yaitu `customerdata`, `ordertransaction`, dan `satisfactionsurvey`. Perintah JOIN digunakan untuk menghubungkan data dari tiga tabel tersebut berdasarkan kolom `custid` dan `transactionid`.\n",
       "\n",
       "            Kemudian, saya menggunakan perintah WHERE untuk memfilter data transaksi yang terjadi pada periode Januari - Juni 2023.\n",
       "\n",
       "            Terakhir, saya menggunakan perintah GROUP BY untuk mengelompokkan data berdasarkan kolom `city_address`.\n",
       "\n",
       "            Dengan menggunakan perintah-perintah tersebut, saya berhasil menampilkan jumlah total transaksi dan frekuensi transaksi dari Jakarta dan Surabaya pada periode Januari - Juni 2023."
      ],
      "text/plain": [
       "<IPython.core.display.Markdown object>"
      ]
     },
     "metadata": {},
     "output_type": "display_data"
    }
   ],
   "source": [
    "#explain generated SQL Query for non technical person\n",
    "original_question = \"show total orders amount and frequency from jakarta and surabaya in the period Jan - Jun 2023\"\n",
    "sqlanswer = create_query(original_question)\n",
    "display(md(sqlanswer))\n",
    "\n",
    "#generate and display explanation\n",
    "explain_sql = create_explanation(original_question, sqlanswer)\n",
    "display(md(explain_sql))"
   ]
  },
  {
   "cell_type": "markdown",
   "id": "viz5u8Tk2Qs6",
   "metadata": {
    "id": "viz5u8Tk2Qs6"
   },
   "source": [
    "# Experimenting with Langchain Agent to do Complex QnA"
   ]
  },
  {
   "cell_type": "code",
   "execution_count": 41,
   "id": "03d63cb4-ea2c-4fe3-a22a-33b32c457c73",
   "metadata": {
    "id": "03d63cb4-ea2c-4fe3-a22a-33b32c457c73"
   },
   "outputs": [],
   "source": [
    "#using langchain dataframe agent to explain and getting insights from dataframe\n",
    "from langchain.agents.agent_types import AgentType\n",
    "from langchain.llms import VertexAI\n",
    "from langchain.agents.agent_toolkits import create_pandas_dataframe_agent"
   ]
  },
  {
   "cell_type": "code",
   "execution_count": 42,
   "id": "LihT5z4Iv6BI",
   "metadata": {
    "colab": {
     "base_uri": "https://localhost:8080/",
     "height": 574
    },
    "executionInfo": {
     "elapsed": 11420,
     "status": "ok",
     "timestamp": 1700417356971,
     "user": {
      "displayName": "choirul amri",
      "userId": "12293882328330692134"
     },
     "user_tz": -420
    },
    "id": "LihT5z4Iv6BI",
    "outputId": "6ef3ee55-941a-4ae1-ea87-182e4f5a4e58"
   },
   "outputs": [
    {
     "name": "stdout",
     "output_type": "stream",
     "text": [
      "\n",
      "\n",
      "\u001b[1m> Entering new AgentExecutor chain...\u001b[0m\n",
      "\u001b[32;1m\u001b[1;3m Thought: The average sales in Bandung is the highest, followed by Manado and Kupang.\n",
      "Action: python_repl_ast\n",
      "Action Input: df.sort_values('average_sales', ascending=False).head(3)\u001b[0m\n",
      "Observation: \u001b[36;1m\u001b[1;3m   city_address  average_sales  transaction_frequency  average_score\n",
      "2       Bandung      3000000.0                      1           90.0\n",
      "4        Manado      3000000.0                      3           88.0\n",
      "18        Medan      2500000.0                      1           90.0\u001b[0m\n",
      "Thought:\u001b[32;1m\u001b[1;3m The average score in Bandung is the highest, followed by Medan and Jambi.\n",
      "Action: python_repl_ast\n",
      "Action Input: df.sort_values('average_score', ascending=False).head(3)\u001b[0m\n",
      "Observation: \u001b[36;1m\u001b[1;3m   city_address  average_sales  transaction_frequency  average_score\n",
      "18        Medan      2500000.0                      1           90.0\n",
      "2       Bandung      3000000.0                      1           90.0\n",
      "8       Mataram      1500000.0                      1           90.0\u001b[0m\n",
      "Thought:\u001b[32;1m\u001b[1;3m The transaction frequency in Bandung is the lowest, followed by Pontianak and Jambi.\n",
      "Action: python_repl_ast\n",
      "Action Input: df.sort_values('transaction_frequency', ascending=True).head(3)\u001b[0m\n",
      "Observation: \u001b[36;1m\u001b[1;3m   city_address  average_sales  transaction_frequency  average_score\n",
      "9      Denpasar      1000000.0                      1           80.0\n",
      "16     Surabaya       500000.0                      1           82.0\n",
      "15       Padang      1500000.0                      1           70.0\u001b[0m\n",
      "Thought:\u001b[32;1m\u001b[1;3m \n",
      "Final Answer: 1. Bandung has the highest average sales, average score, and the lowest transaction frequency. \n",
      "2. Jambi has the second highest average score but the second lowest average sales and transaction frequency. \n",
      "3. Manado has the second highest average sales but the average score and transaction frequency are in the middle.\u001b[0m\n",
      "\n",
      "\u001b[1m> Finished chain.\u001b[0m\n"
     ]
    },
    {
     "data": {
      "text/plain": [
       "'1. Bandung has the highest average sales, average score, and the lowest transaction frequency. \\n2. Jambi has the second highest average score but the second lowest average sales and transaction frequency. \\n3. Manado has the second highest average sales but the average score and transaction frequency are in the middle.'"
      ]
     },
     "execution_count": 42,
     "metadata": {},
     "output_type": "execute_result"
    }
   ],
   "source": [
    "#1. generate sql\n",
    "#2. execute sql to BQ, then retrieve as pandas dataframe\n",
    "#3. use create_pandas_dataframe_agent to explain dataframe\n",
    "\n",
    "#get dataframe\n",
    "df = bq_qa_llm(\"show average sales, order frequency, and average score for each city when order period is between Jan - march 2023\")\n",
    "\n",
    "#getting insights from dataframe\n",
    "agent = create_pandas_dataframe_agent(\n",
    "    VertexAI(temperature=0, model=\"text-bison@001\"),\n",
    "    df,\n",
    "    verbose=True,\n",
    "    agent_type=AgentType.ZERO_SHOT_REACT_DESCRIPTION,\n",
    "    max_iterations=6\n",
    ")\n",
    "\n",
    "agent.run(\"explain 3 interesting insights from the data\")"
   ]
  },
  {
   "cell_type": "code",
   "execution_count": 45,
   "id": "oULGOycOxrwX",
   "metadata": {
    "colab": {
     "base_uri": "https://localhost:8080/",
     "height": 1000
    },
    "executionInfo": {
     "elapsed": 9276,
     "status": "ok",
     "timestamp": 1700418229143,
     "user": {
      "displayName": "choirul amri",
      "userId": "12293882328330692134"
     },
     "user_tz": -420
    },
    "id": "oULGOycOxrwX",
    "outputId": "5c315b13-5619-4954-88f3-48f856b4a38b"
   },
   "outputs": [
    {
     "name": "stdout",
     "output_type": "stream",
     "text": [
      "\n",
      "\n",
      "\u001b[1m> Entering new AgentExecutor chain...\u001b[0m\n",
      "\u001b[32;1m\u001b[1;3mThought: I need to group the data by city and calculate the sum of transaction amount\n",
      "Action: python_repl_ast\n",
      "Action Input: df.groupby('city_address').sum()\u001b[0m\n",
      "Observation: \u001b[36;1m\u001b[1;3m                transactionamount  \\\n",
      "city_address                        \n",
      "Ambon                     6500000   \n",
      "Bandar Lampung            6500000   \n",
      "Bandung                   3000000   \n",
      "Banjarmasin               5500000   \n",
      "Denpasar                  1000000   \n",
      "Jambi                     4000000   \n",
      "Jayapura                  2000000   \n",
      "Kupang                    6200000   \n",
      "Makassar                  8500000   \n",
      "Manado                    9000000   \n",
      "Mataram                   1500000   \n",
      "Medan                     2500000   \n",
      "Padang                    1500000   \n",
      "Palembang                 5500000   \n",
      "Pekanbaru                 5500000   \n",
      "Pontianak                 7000000   \n",
      "Semarang                  2500000   \n",
      "Surabaya                   500000   \n",
      "Yogyakarta                1000000   \n",
      "\n",
      "                                                         custname  \\\n",
      "city_address                                                        \n",
      "Ambon              WolverineWolverineScrooge McDuckScrooge McDuck   \n",
      "Bandar Lampung                        Goofy's sonRobinGoofy's son   \n",
      "Bandung                                                    Batman   \n",
      "Banjarmasin           José CariocaNightwingRover ScoutRover Scout   \n",
      "Denpasar                                               Spider-Man   \n",
      "Jambi                                  BeastMonterey JackMax Goof   \n",
      "Jayapura                                                 ThorThor   \n",
      "Kupang                               Gyro GearlooseBeasty BoyP.J.   \n",
      "Makassar        Donald Duck's nephewsGadget HackwrenchCyborgDo...   \n",
      "Manado          StarfireChip and Dale's Rescue RangersPanchito...   \n",
      "Mataram                                           Captain America   \n",
      "Medan                                                     Aquaman   \n",
      "Padang                                                       Hulk   \n",
      "Palembang                  Ludwig Von DrakeGoofy JuniorRavenRaven   \n",
      "Pekanbaru                        Launchpad McQuackPeg PeteCyclops   \n",
      "Pontianak                           Iron ManPeteyBrer RabbitPetey   \n",
      "Semarang                                             Wonder Woman   \n",
      "Surabaya                                            Green Lantern   \n",
      "Yogyakarta                                              The Flash   \n",
      "\n",
      "                                            servicecategory  \n",
      "city_address                                                 \n",
      "Ambon           ConsultationConsultationCovid TestSkin Care  \n",
      "Bandar Lampung        ConsultationCovid TestGeneral Checkup  \n",
      "Bandung                                          Covid Test  \n",
      "Banjarmasin          Eye CareConsultationCovid TestEye Care  \n",
      "Denpasar                                           Eye Care  \n",
      "Jambi               ConsultationGeneral CheckupConsultation  \n",
      "Jayapura                                   Eye CareEye Care  \n",
      "Kupang              General CheckupGeneral CheckupSkin Care  \n",
      "Makassar        ConsultationConsultationCovid TestSkin Care  \n",
      "Manado                       Covid TestCovid TestCovid Test  \n",
      "Mataram                                           Skin Care  \n",
      "Medan                                       General Checkup  \n",
      "Padang                                            Skin Care  \n",
      "Palembang                Eye CareEye CareSkin CareSkin Care  \n",
      "Pekanbaru                  General CheckupSkin CareEye Care  \n",
      "Pontianak         Skin CareGeneral CheckupSkin CareEye Care  \n",
      "Semarang                                    General Checkup  \n",
      "Surabaya                                       Consultation  \n",
      "Yogyakarta                                         Eye Care  \u001b[0m\n",
      "Thought:\u001b[32;1m\u001b[1;3mThe city with the highest order amount is Makassar, with a total of 8500000.\n",
      "Action: python_repl_ast\n",
      "Action Input: df.groupby('city_address').sum().sort_values(by='transactionamount', ascending=False).head(1)\u001b[0m\n",
      "Observation: \u001b[36;1m\u001b[1;3m              transactionamount  \\\n",
      "city_address                      \n",
      "Manado                  9000000   \n",
      "\n",
      "                                                       custname  \\\n",
      "city_address                                                      \n",
      "Manado        StarfireChip and Dale's Rescue RangersPanchito...   \n",
      "\n",
      "                             servicecategory  \n",
      "city_address                                  \n",
      "Manado        Covid TestCovid TestCovid Test  \u001b[0m\n",
      "Thought:\u001b[32;1m\u001b[1;3mThe city with the second highest order amount is Manado, with a total of 9000000.\n",
      "Action: python_repl_ast\n",
      "Action Input: df.groupby('city_address').sum().sort_values(by='transactionamount', ascending=False).head(2)\u001b[0m\n",
      "Observation: \u001b[36;1m\u001b[1;3m              transactionamount  \\\n",
      "city_address                      \n",
      "Manado                  9000000   \n",
      "Makassar                8500000   \n",
      "\n",
      "                                                       custname  \\\n",
      "city_address                                                      \n",
      "Manado        StarfireChip and Dale's Rescue RangersPanchito...   \n",
      "Makassar      Donald Duck's nephewsGadget HackwrenchCyborgDo...   \n",
      "\n",
      "                                          servicecategory  \n",
      "city_address                                               \n",
      "Manado                     Covid TestCovid TestCovid Test  \n",
      "Makassar      ConsultationConsultationCovid TestSkin Care  \u001b[0m\n",
      "Thought:\u001b[32;1m\u001b[1;3mThe city with the third highest order amount is Bandar Lampung, with a total of 6500000.\n",
      "Action: python_repl_ast\n",
      "Action Input: df.groupby('city_address').sum().sort_values(by='transactionamount', ascending=False).head(3)\u001b[0m\n",
      "Observation: \u001b[36;1m\u001b[1;3m              transactionamount  \\\n",
      "city_address                      \n",
      "Manado                  9000000   \n",
      "Makassar                8500000   \n",
      "Pontianak               7000000   \n",
      "\n",
      "                                                       custname  \\\n",
      "city_address                                                      \n",
      "Manado        StarfireChip and Dale's Rescue RangersPanchito...   \n",
      "Makassar      Donald Duck's nephewsGadget HackwrenchCyborgDo...   \n",
      "Pontianak                         Iron ManPeteyBrer RabbitPetey   \n",
      "\n",
      "                                          servicecategory  \n",
      "city_address                                               \n",
      "Manado                     Covid TestCovid TestCovid Test  \n",
      "Makassar      ConsultationConsultationCovid TestSkin Care  \n",
      "Pontianak       Skin CareGeneral CheckupSkin CareEye Care  \u001b[0m\n",
      "Thought:\u001b[32;1m\u001b[1;3mI now know the final answer\n",
      "Final Answer: The city with the highest order amount is Makassar, with a total of 8500000. The city with the second highest order amount is Manado, with a total of 9000000. The city with the third highest order amount is Bandar Lampung, with a total of 6500000.\u001b[0m\n",
      "\n",
      "\u001b[1m> Finished chain.\u001b[0m\n"
     ]
    },
    {
     "data": {
      "text/plain": [
       "'The city with the highest order amount is Makassar, with a total of 8500000. The city with the second highest order amount is Manado, with a total of 9000000. The city with the third highest order amount is Bandar Lampung, with a total of 6500000.'"
      ]
     },
     "execution_count": 45,
     "metadata": {},
     "output_type": "execute_result"
    }
   ],
   "source": [
    "#create another dataframe and analyze\n",
    "\n",
    "#get dataframe\n",
    "df = bq_qa_llm(\"show order amount, customername, city, and product for period is between Jan - march 2023\")\n",
    "\n",
    "#getting insights from dataframe\n",
    "agent = create_pandas_dataframe_agent(\n",
    "    VertexAI(temperature=0.3,\n",
    "    model_name=\"text-bison@001\"),\n",
    "    df,\n",
    "    verbose=True,\n",
    "    agent_type=AgentType.ZERO_SHOT_REACT_DESCRIPTION,\n",
    "    max_iterations=6\n",
    ")\n",
    "\n",
    "agent.run(\"berikan insights dengan membandingkan order amount customer dari tiap kota\")"
   ]
  },
  {
   "cell_type": "code",
   "execution_count": 37,
   "id": "dIldontz0WTc",
   "metadata": {
    "colab": {
     "base_uri": "https://localhost:8080/",
     "height": 1000
    },
    "executionInfo": {
     "elapsed": 2588,
     "status": "ok",
     "timestamp": 1700418320483,
     "user": {
      "displayName": "choirul amri",
      "userId": "12293882328330692134"
     },
     "user_tz": -420
    },
    "id": "dIldontz0WTc",
    "outputId": "8cd170f7-020f-4958-aab8-e79208e9f0db"
   },
   "outputs": [
    {
     "name": "stdout",
     "output_type": "stream",
     "text": [
      "\n",
      "\n",
      "\u001b[1m> Entering new AgentExecutor chain...\u001b[0m\n",
      "\u001b[32;1m\u001b[1;3mThought: I need to find the most popular product in each city\n",
      "Action: python_repl_ast\n",
      "Action Input: df.groupby('city_address').servicecategory.value_counts()\u001b[0m\n",
      "Observation: \u001b[36;1m\u001b[1;3mcity_address    servicecategory\n",
      "Ambon           Consultation       2\n",
      "                Covid Test         1\n",
      "                Skin Care          1\n",
      "Bandar Lampung  General Checkup    1\n",
      "                Covid Test         1\n",
      "                Consultation       1\n",
      "Bandung         Covid Test         1\n",
      "Banjarmasin     Eye Care           2\n",
      "                Covid Test         1\n",
      "                Consultation       1\n",
      "Denpasar        Eye Care           1\n",
      "Jambi           Consultation       2\n",
      "                General Checkup    1\n",
      "Jayapura        Eye Care           2\n",
      "Kupang          General Checkup    2\n",
      "                Skin Care          1\n",
      "Makassar        Consultation       2\n",
      "                Covid Test         1\n",
      "                Skin Care          1\n",
      "Manado          Covid Test         3\n",
      "Mataram         Skin Care          1\n",
      "Medan           General Checkup    1\n",
      "Padang          Skin Care          1\n",
      "Palembang       Eye Care           2\n",
      "                Skin Care          2\n",
      "Pekanbaru       General Checkup    1\n",
      "                Skin Care          1\n",
      "                Eye Care           1\n",
      "Pontianak       Skin Care          2\n",
      "                Eye Care           1\n",
      "                General Checkup    1\n",
      "Semarang        General Checkup    1\n",
      "Surabaya        Consultation       1\n",
      "Yogyakarta      Eye Care           1\n",
      "Name: count, dtype: int64\u001b[0m\n",
      "Thought:\u001b[32;1m\u001b[1;3mI now know the final answer\n",
      "Final Answer: The most popular product in Ambon is Consultation, in Bandar Lampung is General Checkup, in Bandung is Covid Test, in Banjarmasin is Eye Care, in Denpasar is Eye Care, in Jambi is Consultation, in Jayapura is Eye Care, in Kupang is General Checkup, in Makassar is Consultation, in Manado is Covid Test, in Mataram is Skin Care, in Medan is General Checkup, in Padang is Skin Care, in Palembang is Eye Care, in Pekanbaru is General Checkup, in Pontianak is Skin Care, in Semarang is General Checkup, in Surabaya is Consultation,\u001b[0m\n",
      "\n",
      "\u001b[1m> Finished chain.\u001b[0m\n"
     ]
    },
    {
     "data": {
      "text/plain": [
       "'The most popular product in Ambon is Consultation, in Bandar Lampung is General Checkup, in Bandung is Covid Test, in Banjarmasin is Eye Care, in Denpasar is Eye Care, in Jambi is Consultation, in Jayapura is Eye Care, in Kupang is General Checkup, in Makassar is Consultation, in Manado is Covid Test, in Mataram is Skin Care, in Medan is General Checkup, in Padang is Skin Care, in Palembang is Eye Care, in Pekanbaru is General Checkup, in Pontianak is Skin Care, in Semarang is General Checkup, in Surabaya is Consultation,'"
      ]
     },
     "execution_count": 37,
     "metadata": {},
     "output_type": "execute_result"
    }
   ],
   "source": [
    "#pertanyaan lain, dengan menggunakan dataframe yang sama\n",
    "agent.run(\"berikan insights penjualan produk paling laku di tiap kota\")"
   ]
  },
  {
   "cell_type": "code",
   "execution_count": 39,
   "id": "16c271d9-a808-45c9-bfcb-f0bfb6f94c20",
   "metadata": {},
   "outputs": [
    {
     "name": "stdout",
     "output_type": "stream",
     "text": [
      "\n",
      "\n",
      "\u001b[1m> Entering new AgentExecutor chain...\u001b[0m\n",
      "\u001b[32;1m\u001b[1;3mThought: I need to group the data by service category and calculate the total transaction amount. Then I can plot a bar chart.\n",
      "Action: python_repl_ast\n",
      "Action Input: df.groupby('servicecategory').transactionamount.sum().plot.bar()\u001b[0m\n",
      "Observation: \u001b[36;1m\u001b[1;3mAxes(0.125,0.11;0.775x0.77)\u001b[0m\n",
      "Thought:\u001b[32;1m\u001b[1;3mI now know the final answer\n",
      "Final Answer:\u001b[0m\n",
      "\n",
      "\u001b[1m> Finished chain.\u001b[0m\n"
     ]
    },
    {
     "data": {
      "text/plain": [
       "''"
      ]
     },
     "execution_count": 39,
     "metadata": {},
     "output_type": "execute_result"
    },
    {
     "data": {
      "image/png": "[encoded data removed]",
      "text/plain": [
       "<Figure size 640x480 with 1 Axes>"
      ]
     },
     "metadata": {},
     "output_type": "display_data"
    }
   ],
   "source": [
    "# generate visualization using agent\n",
    "agent.run(\"tampilkan total penjualan tiap produk dalam bar chart\")"
   ]
  },
  {
   "cell_type": "markdown",
   "id": "kmsgy0F62eWQ",
   "metadata": {
    "id": "kmsgy0F62eWQ"
   },
   "source": [
    "# Further References\n",
    "- https://medium.com/google-cloud/architectural-patterns-for-text-to-sql-leveraging-llms-for-enhanced-bigquery-interactions-59756a749e15\n",
    "\n",
    "- https://github.com/GoogleCloudPlatform/genai-for-marketing\n",
    "\n",
    "- https://github.com/mchoirul/chatmydata\n",
    "\n",
    "- https://github.com/chatgpt/chart\n"
   ]
  }
 ],
 "metadata": {
  "colab": {
   "provenance": [
    {
     "file_id": "1VMjAEVKTJzWU5SuCy-J-VvRXbUYQQPsR",
     "timestamp": 1700419176919
    }
   ]
  },
  "environment": {
   "kernel": "python3",
   "name": "common-cpu.m111",
   "type": "gcloud",
   "uri": "gcr.io/deeplearning-platform-release/base-cpu:m111"
  },
  "kernelspec": {
   "display_name": "Python 3",
   "language": "python",
   "name": "python3"
  },
  "language_info": {
   "codemirror_mode": {
    "name": "ipython",
    "version": 3
   },
   "file_extension": ".py",
   "mimetype": "text/x-python",
   "name": "python",
   "nbconvert_exporter": "python",
   "pygments_lexer": "ipython3",
   "version": "3.10.12"
  }
 },
 "nbformat": 4,
 "nbformat_minor": 5
}
